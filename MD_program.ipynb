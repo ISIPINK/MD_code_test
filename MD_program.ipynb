{
 "cells": [
  {
   "cell_type": "markdown",
   "metadata": {},
   "source": [
    "# Pytroch autodiff example"
   ]
  },
  {
   "cell_type": "code",
   "execution_count": 6,
   "metadata": {},
   "outputs": [
    {
     "name": "stdout",
     "output_type": "stream",
     "text": [
      "tensor(20.)\n"
     ]
    }
   ],
   "source": [
    "import torch\n",
    "\n",
    "x = torch.tensor(5.0, requires_grad=True)\n",
    "f = 2 * (x ** 2) + 5\n",
    "f.backward()\n",
    "print(x.grad)  # This will print the derivative of f with respect to x\n"
   ]
  },
  {
   "cell_type": "markdown",
   "metadata": {},
   "source": [
    "# Units lookups\n",
    "kcal/(g * Å) in Å/(ps²) wolfram says: <br>\n",
    "\n",
    "418.4 Å/ps^2 (ångströms per picosecond squared) <br>\n",
    "\n",
    "maybe I should have used a unit package but I havent used one before\n"
   ]
  },
  {
   "cell_type": "code",
   "execution_count": 86,
   "metadata": {},
   "outputs": [],
   "source": [
    "from dataclasses import dataclass\n",
    "from abc import ABC, abstractmethod\n",
    "import numpy as np\n",
    "import torch\n",
    "from einops import rearrange\n",
    "\n",
    "@dataclass\n",
    "class Simulation_constants:\n",
    "    \"\"\"Holds simulation constants\"\"\"\n",
    "    m: float = 39.9748 # g/mol , mass\n",
    "    T: float = 300 # K , T\n",
    "    sigma: float = 3.4 # A, particle size\n",
    "    eps: float = 0.24 # kcal/mol interactions_strength\n",
    "    # A box defined by 2 corners (xi,yi), (xf,yf)\n",
    "    xi: float = 0 # A\n",
    "    yi: float = 0 # A\n",
    "    xf: float = 20 # A\n",
    "    yf: float = 20 # A\n",
    "\n",
    "\n",
    "class MD_simulation(ABC):\n",
    "    def __init__(self,sim_cons,pos_file=\"intial_pos.csv\",vel_file=\"intial_vel.csv\"):\n",
    "        self.positions = torch.from_numpy(np.genfromtxt(pos_file)) # A\n",
    "        self.positions.requires_grad = True\n",
    "        self.velocity  = np.genfromtxt(vel_file) # A/ps\n",
    "        self.constants = sim_cons\n",
    "        self.total_steps = 0  \n",
    "\n",
    "        if self.positions.shape != self.velocity.shape:\n",
    "            raise ValueError(\"Positions and velocities must have the same shape\")\n",
    "    \n",
    "\n",
    "    def get_distances_squared(self):   \n",
    "        # broadcasting points (p) to get z_i - z_j for each coordinate (c), redundant x_j-x_i \n",
    "        diff = rearrange(self.positions, 'p c -> p 1 c') - rearrange(self.positions, 'p c -> 1 p c') # A\n",
    "        return torch.einsum('ijc,ijc->ij', diff, diff) # A^2\n",
    "\n",
    "    @abstractmethod   \n",
    "    def get_potential_energy(self):\n",
    "        pass\n",
    "\n",
    "    def get_force(self):\n",
    "        \"\"\"Calculates the force as the negative gradient of the potential energy.\"\"\"\n",
    "        forces, = torch.autograd.grad(self.get_potential_energy(), self.positions, create_graph=True)\n",
    "        return -forces #kcal/(mol * A)\n",
    "\n",
    "    @abstractmethod   \n",
    "    def step(self):\n",
    "        \"\"\"Performs a single step of the Velocity Verlet integration algorithm.\"\"\"\n",
    "        pass\n",
    "\n",
    "    def step_reflect(self):\n",
    "        \"\"\"Reflects particles that have crossed the boundary.\"\"\"\n",
    "        pass\n",
    "\n",
    "\n",
    "\n",
    "class MD_simulation_lj_vv(MD_simulation):\n",
    "    \"\"\"Implements the Lennard-Jones potential and Velocity Verlet integration step\"\"\"\n",
    "\n",
    "    def get_potential_energy(self):\n",
    "        \"\"\"Maybe for calculating the force with autodiff\"\"\"\n",
    "        tmp = self.get_distances_squared() + 1e-9 # added eps, avoid dividing by 0, A^2\n",
    "        tmp = self.constants.sigma**6/tmp**3 # A^6/A^6 \n",
    "        tmp = 4*self.constants.eps*tmp*(1-tmp) # kcal/mol\n",
    "        return torch.einsum(\"ij->\", torch.triu(tmp, diagonal=1)) # kcal/mol\n",
    "\n",
    "    def step(self):\n",
    "        a = self.get_force()/self.constants.m #kcal/(mol * A * (g/mol)) = kcal/(g *A) = 418.4 A/(ps^2)\n",
    "        a_unit_factor_kcal_per_gA_to_A_per_ps2 = 418.4\n",
    "        a *= a_unit_factor_kcal_per_gA_to_A_per_ps2\n",
    "        print(f\"pos= \\n{self.positions}, \\nvel = \\n{self.velocity}, \\na = \\n{a}\")\n",
    "\n",
    "\n"
   ]
  },
  {
   "cell_type": "code",
   "execution_count": 88,
   "metadata": {},
   "outputs": [
    {
     "name": "stdout",
     "output_type": "stream",
     "text": [
      "pos= \n",
      "tensor([[18.2100,  6.6900],\n",
      "        [18.9800, 18.6100],\n",
      "        [ 2.1100, 13.9000],\n",
      "        [ 4.8500,  3.5500],\n",
      "        [ 6.1400, 10.6100],\n",
      "        [12.0900,  9.9700],\n",
      "        [11.3300,  3.4800],\n",
      "        [12.7100, 17.7300],\n",
      "        [10.2100, 14.2600],\n",
      "        [ 0.0500,  2.7400],\n",
      "        [15.6600, 14.7400],\n",
      "        [ 6.5800, 17.6600],\n",
      "        [14.7000,  1.2100],\n",
      "        [ 8.2000,  6.2500],\n",
      "        [19.0300, 11.2900],\n",
      "        [ 2.0600,  7.8300]], dtype=torch.float64, requires_grad=True), \n",
      "vel = \n",
      "[[ 0.26  1.28]\n",
      " [-1.55  0.29]\n",
      " [-0.72  4.23]\n",
      " [ 0.65 -1.69]\n",
      " [ 0.86 -2.02]\n",
      " [ 1.28 -2.08]\n",
      " [-2.05 -2.04]\n",
      " [-3.49 -1.95]\n",
      " [ 2.56  3.81]\n",
      " [ 2.27  2.89]\n",
      " [ 3.12  3.02]\n",
      " [ 3.3  -0.58]\n",
      " [-2.69 -3.48]\n",
      " [ 1.05 -3.91]\n",
      " [-3.48 -0.97]\n",
      " [-1.34  3.22]], \n",
      "a = \n",
      "tensor([[ 0.0468, -1.2387],\n",
      "        [ 0.7882,  0.7736],\n",
      "        [-0.9304,  0.5490],\n",
      "        [-0.0329, -1.7289],\n",
      "        [ 0.1917,  0.8033],\n",
      "        [ 0.9375, -0.9179],\n",
      "        [ 0.1214, -0.5105],\n",
      "        [-0.1530,  2.7415],\n",
      "        [-0.9582, -0.5024],\n",
      "        [-1.3268, -0.7265],\n",
      "        [ 0.6431, -0.7346],\n",
      "        [-0.7199,  1.0371],\n",
      "        [ 1.2694, -1.0937],\n",
      "        [ 0.2758,  0.7103],\n",
      "        [ 1.1863,  0.4263],\n",
      "        [-1.3391,  0.4120]], dtype=torch.float64, grad_fn=<MulBackward0>)\n"
     ]
    }
   ],
   "source": [
    "sim_cons = Simulation_constants()\n",
    "sim = MD_simulation_lj_vv(sim_cons)\n",
    "# sim = MD_simulation_lj_vv(sim_cons,pos_file=\"ipos.csv\",vel_file=\"ivel.csv\")\n",
    "# dis= sim.get_distances_squared()\n",
    "# print(dis.detach().numpy())\n",
    "# print(sim.get_potential_energy())\n",
    "# print(sim.get_potential_energy().backward())\n",
    "sim.step()\n",
    "# print(sim.positions)"
   ]
  }
 ],
 "metadata": {
  "kernelspec": {
   "display_name": "assfinmath",
   "language": "python",
   "name": "python3"
  },
  "language_info": {
   "codemirror_mode": {
    "name": "ipython",
    "version": 3
   },
   "file_extension": ".py",
   "mimetype": "text/x-python",
   "name": "python",
   "nbconvert_exporter": "python",
   "pygments_lexer": "ipython3",
   "version": "3.7.12"
  }
 },
 "nbformat": 4,
 "nbformat_minor": 2
}
