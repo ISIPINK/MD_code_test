{
 "cells": [
  {
   "cell_type": "code",
   "execution_count": null,
   "metadata": {},
   "outputs": [],
   "source": [
    "from dataclasses import dataclass\n",
    "import numpy as np\n",
    "\n",
    "@dataclass\n",
    "class Simulation_constants:\n",
    "    \"\"\"Holds simulation constants\"\"\"\n",
    "    mass: float = 39.9748 # g/mol\n",
    "    temperature: float = 300 # K\n",
    "    particle_size: float = 3.4 # A, sigma\n",
    "    interactions_strength: float = 0.24 # kcal/mol eps\n",
    "    # A box defined by 2 corners (xi,yi), (xf,yf)\n",
    "    xi: float = 0 # A\n",
    "    yi: float = 0 # A\n",
    "    xf: float = 20 # A\n",
    "    yf: float = 20 # A\n",
    "\n",
    "\n",
    "class MD_Simulation:\n",
    "    def __init__(self,sim_cons,pos_file=\"intial_pos.csv\",vel_file=\"intial_vel.csv\"):\n",
    "        self.positions = np.genfromtxt(pos_file) # A\n",
    "        self.velocity  = np.genfromtxt(vel_file) # A/ps\n",
    "        self.constants = sim_cons\n",
    "        self.total_steps = 0  \n",
    "\n",
    "        if self.positions.shape != self.velocity.shape:\n",
    "            raise ValueError(\"Positions and velocities must have the same shape\")\n",
    "        \n",
    "    def get_potential_energy(self):\n",
    "        \"\"\"Maybe for calculating the force with autodiff\"\"\"\n",
    "        pass\n",
    "\n",
    "    def get_force(self):\n",
    "        \"\"\"Calculates the force of every particle as the derivative of \n",
    "        the potential energy;\"\"\"\n",
    "        pass\n",
    "\n",
    "    def step_velocity_verlet(self):\n",
    "        \"\"\"Performs a single step of the Velocity Verlet integration algorithm.\"\"\"\n",
    "        pass\n",
    "\n",
    "    def step_reflect(self):\n",
    "        \"\"\"Reflects particles that have crossed the boundary.\"\"\"\n",
    "        pass\n",
    "\n"
   ]
  },
  {
   "cell_type": "code",
   "execution_count": 26,
   "metadata": {},
   "outputs": [
    {
     "name": "stdout",
     "output_type": "stream",
     "text": [
      "[[18.21  6.69]\n",
      " [18.98 18.61]\n",
      " [ 2.11 13.9 ]\n",
      " [ 4.85  3.55]\n",
      " [ 6.14 10.61]\n",
      " [12.09  9.97]\n",
      " [11.33  3.48]\n",
      " [12.71 17.73]\n",
      " [10.21 14.26]\n",
      " [ 0.05  2.74]\n",
      " [15.66 14.74]\n",
      " [ 6.58 17.66]\n",
      " [14.7   1.21]\n",
      " [ 8.2   6.25]\n",
      " [19.03 11.29]\n",
      " [ 2.06  7.83]]\n"
     ]
    }
   ],
   "source": [
    "sim_cons = Simulation_constants()\n",
    "sim = MD_Simulation(sim_cons)\n",
    "print(sim.positions)"
   ]
  }
 ],
 "metadata": {
  "kernelspec": {
   "display_name": "base",
   "language": "python",
   "name": "python3"
  },
  "language_info": {
   "codemirror_mode": {
    "name": "ipython",
    "version": 3
   },
   "file_extension": ".py",
   "mimetype": "text/x-python",
   "name": "python",
   "nbconvert_exporter": "python",
   "pygments_lexer": "ipython3",
   "version": "3.12.2"
  }
 },
 "nbformat": 4,
 "nbformat_minor": 2
}
